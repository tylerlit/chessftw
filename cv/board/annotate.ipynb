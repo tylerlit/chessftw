{
 "cells": [
  {
   "cell_type": "code",
   "execution_count": 1,
   "metadata": {},
   "outputs": [],
   "source": [
    "import cv2\n",
    "import re\n",
    "import os\n",
    "import tkinter as tk\n",
    "from matplotlib import pyplot as plt\n",
    "import numpy as np"
   ]
  },
  {
   "cell_type": "code",
   "execution_count": 2,
   "metadata": {},
   "outputs": [
    {
     "name": "stdout",
     "output_type": "stream",
     "text": [
      "['.ipynb', '88408f0b-ad9e-4bcc-9992-2f145150e632.png', 'annotate.ipynb', 'annotate.py', 'ed2c5683-8cc4-4860-9014-1d69d7e324b9.png', 'helpers.py', 'screenshot.py', 'test.png', '__init__.py']\n",
      "['88408f0b-ad9e-4bcc-9992-2f145150e632.png', 'ed2c5683-8cc4-4860-9014-1d69d7e324b9.png', 'test.png']\n"
     ]
    }
   ],
   "source": [
    "# get all files in current directory (cv\\board\\)\n",
    "files = [f for f in os.listdir('.') if os.path.isfile(f)]\n",
    "\n",
    "# get all screenshots out of this list\n",
    "images = [i for i in files if (i[-4:] == \".png\")]\n",
    "\n",
    "print(files)\n",
    "print(images)"
   ]
  },
  {
   "cell_type": "code",
   "execution_count": 3,
   "metadata": {
    "scrolled": true
   },
   "outputs": [
    {
     "name": "stdout",
     "output_type": "stream",
     "text": [
      "23\n",
      "217\n",
      "23\n",
      "217\n",
      "23\n",
      "217\n"
     ]
    },
    {
     "data": {
      "image/png": "[encoded data removed]",
      "text/plain": [
       "<Figure size 432x288 with 1 Axes>"
      ]
     },
     "metadata": {
      "needs_background": "light"
     },
     "output_type": "display_data"
    }
   ],
   "source": [
    "for i in images:\n",
    "    \n",
    "    img = cv2.imread(i, 0)\n",
    "    img = cv2.resize(img, None ,fx=0.25,fy=0.25)\n",
    "    img = img[41:228, 143:329]\n",
    "    \n",
    "    print(round(img.shape[0] / 8))\n",
    "    print(img[0,0])\n",
    "    \n",
    "    unit = round(img.shape[0] / 8)\n",
    "    #cv2.waitKey(0)\n",
    "    \n",
    "    img = img[:unit, :unit]\n",
    "    \n",
    "    plot = cv2.cvtColor(img, cv2.COLOR_BGR2RGB) \n",
    "    imgplot = plt.imshow(plot)\n",
    "    "
   ]
  },
  {
   "cell_type": "code",
   "execution_count": null,
   "metadata": {},
   "outputs": [],
   "source": []
  },
  {
   "cell_type": "code",
   "execution_count": null,
   "metadata": {},
   "outputs": [],
   "source": []
  },
  {
   "cell_type": "code",
   "execution_count": null,
   "metadata": {},
   "outputs": [],
   "source": []
  },
  {
   "cell_type": "code",
   "execution_count": null,
   "metadata": {},
   "outputs": [],
   "source": []
  }
 ],
 "metadata": {
  "kernelspec": {
   "display_name": "Python 3",
   "language": "python",
   "name": "python3"
  },
  "language_info": {
   "codemirror_mode": {
    "name": "ipython",
    "version": 3
   },
   "file_extension": ".py",
   "mimetype": "text/x-python",
   "name": "python",
   "nbconvert_exporter": "python",
   "pygments_lexer": "ipython3",
   "version": "3.7.3"
  }
 },
 "nbformat": 4,
 "nbformat_minor": 2
}
